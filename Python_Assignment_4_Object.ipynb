{
  "cells": [
    {
      "cell_type": "markdown",
      "metadata": {
        "id": "42YOvFgOeGmo"
      },
      "source": [
        "# Object-Oriented-Programming (OOP)"
      ]
    },
    {
      "cell_type": "markdown",
      "metadata": {
        "id": "6e265JhMeGms"
      },
      "source": [
        "## Tasks Today:\n",
        "\n",
        "   \n",
        "\n",
        "1) <b>Creating a Class (Initializing/Declaring)</b> <br>\n",
        "2) <b>Using a Class (Instantiating)</b> <br>\n",
        " &nbsp;&nbsp;&nbsp;&nbsp; a) Creating One Instance <br>\n",
        " &nbsp;&nbsp;&nbsp;&nbsp; b) Creating Multiple Instances <br>\n",
        " &nbsp;&nbsp;&nbsp;&nbsp; c) In-Class Exercise #1 - Create a Class 'Car' and instantiate three different makes of cars <br>\n",
        "3) <b>The \\__init\\__() Method</b> <br>\n",
        " &nbsp;&nbsp;&nbsp;&nbsp; a) The 'self' Attribute <br>\n",
        "4) <b>Class Attributes</b> <br>\n",
        " &nbsp;&nbsp;&nbsp;&nbsp; a) Initializing Attributes <br>\n",
        " &nbsp;&nbsp;&nbsp;&nbsp; b) Setting an Attribute Outside of the \\__init\\__() Method <br>\n",
        " &nbsp;&nbsp;&nbsp;&nbsp; c) Setting Defaults for Attributes <br>\n",
        " &nbsp;&nbsp;&nbsp;&nbsp; d) Accessing Class Attributes <br>\n",
        " &nbsp;&nbsp;&nbsp;&nbsp; e) Changing Class Attributes <br>\n",
        " &nbsp;&nbsp;&nbsp;&nbsp; f) In-Class Exercise #2 - Add a color and wheels attribute to your 'Car' class <br>\n",
        "5) <b>Class Methods</b> <br>\n",
        " &nbsp;&nbsp;&nbsp;&nbsp; a) Creating <br>\n",
        " &nbsp;&nbsp;&nbsp;&nbsp; b) Calling <br>\n",
        " &nbsp;&nbsp;&nbsp;&nbsp; c) Modifying an Attribute's Value Through a Method <br>\n",
        " &nbsp;&nbsp;&nbsp;&nbsp; d) Incrementing an Attribute's Value Through a Method <br>\n",
        " &nbsp;&nbsp;&nbsp;&nbsp; e) In-Class Exercise #3 - Add a method that prints the cars color and wheel number, then call them <br>\n",
        "6) <b>Inheritance</b> <br>\n",
        " &nbsp;&nbsp;&nbsp;&nbsp; a) Syntax for Inheriting from a Parent Class <br>\n",
        " &nbsp;&nbsp;&nbsp;&nbsp; b) The \\__init\\__() Method for a Child Class (super()) <br>\n",
        " &nbsp;&nbsp;&nbsp;&nbsp; c) Defining Attributes and Methods for the Child Class <br>\n",
        " &nbsp;&nbsp;&nbsp;&nbsp; d) Method Overriding <br>\n",
        " &nbsp;&nbsp;&nbsp;&nbsp; e) In-Class Exercise #4 - Create a class 'Ford' that inherits from 'Car' class and initialize it as a Blue Ford Explorer with 4 wheels using the super() method <br>\n",
        "7) <b>Classes as Attributes</b> <br>\n",
        "8) <b>Exercises</b> <br>\n",
        " &nbsp;&nbsp;&nbsp;&nbsp; a) Exercise #1 - Turn the shopping cart program from yesterday into an object-oriented program <br>"
      ]
    },
    {
      "cell_type": "markdown",
      "metadata": {
        "id": "cYc3m2ROeGmt"
      },
      "source": [
        "## Creating a Class (Initializing/Declaring)\n",
        "<p>When creating a class, function, or even a variable you are initializing that object. Initializing and Declaring occur at the same time in Python, whereas in lower level languages you have to declare an object before initializing it. This is the first step in the process of using a class.</p>"
      ]
    },
    {
      "cell_type": "code",
      "execution_count": 1,
      "metadata": {
        "id": "InhC34cReGmu"
      },
      "outputs": [],
      "source": [
        "# classes need attributes... wheel, color are attributes\n",
        "class Car():\n",
        "    wheels = 4\n",
        "    color = 'blue'"
      ]
    },
    {
      "cell_type": "markdown",
      "metadata": {
        "id": "kkCx94hueGmw"
      },
      "source": [
        "## Using a Class (Instantiating)\n",
        "<p>The process of creating a class is called <i>Instantiating</i>. Each time you create a variable of that type of class, it is referred to as an <i>Instance</i> of that class. This is the second step in the process of using a class.</p>"
      ]
    },
    {
      "cell_type": "markdown",
      "metadata": {
        "id": "0eg0CAmqeGmw"
      },
      "source": [
        "##### Creating One Instance"
      ]
    },
    {
      "cell_type": "code",
      "execution_count": 2,
      "metadata": {
        "colab": {
          "base_uri": "https://localhost:8080/",
          "height": 0
        },
        "id": "-hydb8OweGmw",
        "outputId": "225b857c-6f55-46a1-80a4-7997fbc27a4d"
      },
      "outputs": [
        {
          "output_type": "stream",
          "name": "stdout",
          "text": [
            "4\n"
          ]
        }
      ],
      "source": [
        "\n",
        "ford = Car() #capitalize a class\n",
        "print(ford.wheels)"
      ]
    },
    {
      "cell_type": "markdown",
      "metadata": {
        "id": "sqpv49LHeGmx"
      },
      "source": [
        "##### Creating Multiple Instances"
      ]
    },
    {
      "cell_type": "code",
      "execution_count": 4,
      "metadata": {
        "colab": {
          "base_uri": "https://localhost:8080/",
          "height": 193
        },
        "id": "5_xIj9zneGmx",
        "outputId": "c71c9e63-d77f-4c3a-a5aa-6acef546dcfd"
      },
      "outputs": [
        {
          "output_type": "stream",
          "name": "stdout",
          "text": [
            "<class 'str'>\n"
          ]
        },
        {
          "output_type": "error",
          "ename": "AttributeError",
          "evalue": "'Car' object has no attribute 'bumper'",
          "traceback": [
            "\u001b[0;31m---------------------------------------------------------------------------\u001b[0m",
            "\u001b[0;31mAttributeError\u001b[0m                            Traceback (most recent call last)",
            "\u001b[0;32m<ipython-input-4-588218de20be>\u001b[0m in \u001b[0;36m<cell line: 6>\u001b[0;34m()\u001b[0m\n\u001b[1;32m      4\u001b[0m \u001b[0;34m\u001b[0m\u001b[0m\n\u001b[1;32m      5\u001b[0m \u001b[0mprint\u001b[0m\u001b[0;34m(\u001b[0m\u001b[0mtype\u001b[0m\u001b[0;34m(\u001b[0m\u001b[0mporsche\u001b[0m\u001b[0;34m.\u001b[0m\u001b[0mcolor\u001b[0m\u001b[0;34m)\u001b[0m\u001b[0;34m)\u001b[0m\u001b[0;34m\u001b[0m\u001b[0;34m\u001b[0m\u001b[0m\n\u001b[0;32m----> 6\u001b[0;31m \u001b[0mprint\u001b[0m\u001b[0;34m(\u001b[0m\u001b[0mporsche\u001b[0m\u001b[0;34m.\u001b[0m\u001b[0mbumper\u001b[0m\u001b[0;34m)\u001b[0m\u001b[0;34m\u001b[0m\u001b[0;34m\u001b[0m\u001b[0m\n\u001b[0m",
            "\u001b[0;31mAttributeError\u001b[0m: 'Car' object has no attribute 'bumper'"
          ]
        }
      ],
      "source": [
        "chevy = Car()\n",
        "honda = Car()\n",
        "porsche = Car()\n",
        "\n",
        "print(type(porsche.color))\n",
        "print(porsche.bumper) # this will print an error as bumper is not defined as an attribute of  Car"
      ]
    },
    {
      "cell_type": "markdown",
      "metadata": {
        "id": "iX19b2NVeGmx"
      },
      "source": [
        "##### In-Class Exercise #1 - Create a Class 'Car' and Instantiate three different makes of cars"
      ]
    },
    {
      "cell_type": "code",
      "execution_count": 9,
      "metadata": {
        "colab": {
          "base_uri": "https://localhost:8080/",
          "height": 0
        },
        "id": "quUMNq5VeGmy",
        "outputId": "bfa63fde-d6ed-407a-a3ed-9f8cab970fdd"
      },
      "outputs": [
        {
          "output_type": "stream",
          "name": "stdout",
          "text": [
            "Corolla Cross 2019 burgundy\n",
            "Civic 2020 teal blue\n",
            "AMG GT 2023 black\n"
          ]
        }
      ],
      "source": [
        "# define class Car\n",
        "# instantiate 3 different makes of cars\n",
        "# class requies attributes. set the attribute of each car\n",
        "# print the description of the cars instantiated\n",
        "\n",
        "class Car:\n",
        "  pass\n",
        "  # instantiate 3 different makes\n",
        "toyota = Car()\n",
        "honda = Car()\n",
        "mercedes = Car()\n",
        "\n",
        "# setting the attributes for each car [model,year, color]\n",
        "toyota.model = 'Corolla Cross'\n",
        "honda.model = 'Civic'\n",
        "mercedes.model= 'AMG GT'\n",
        "\n",
        "toyota.year = 2019\n",
        "honda.year = 2020\n",
        "mercedes.year = 2023\n",
        "\n",
        "toyota.color = 'burgundy'\n",
        "honda.color = 'teal blue'\n",
        "mercedes.color = 'black'\n",
        "\n",
        "# print descriptions\n",
        "\n",
        "print(f'{toyota.model} {toyota.year} {toyota.color}')\n",
        "print(f'{honda.model} {honda.year} {honda.color}')\n",
        "print(f'{mercedes.model} {mercedes.year} {mercedes.color}')\n",
        "\n",
        ""
      ]
    },
    {
      "cell_type": "markdown",
      "metadata": {
        "id": "zg9o4mWaeGmy"
      },
      "source": [
        "## The \\__init\\__() Method <br>\n",
        "<p>This method is used in almost every created class, and called only once upon the creation of the class instance. This method will initialize all variables needed for the object.</p>"
      ]
    },
    {
      "cell_type": "code",
      "execution_count": 11,
      "metadata": {
        "colab": {
          "base_uri": "https://localhost:8080/",
          "height": 0
        },
        "id": "o9pIVlieeGmy",
        "outputId": "e26999b7-e43e-4407-b307-2007cf94124e"
      },
      "outputs": [
        {
          "output_type": "stream",
          "name": "stdout",
          "text": [
            "4\n",
            "black\n"
          ]
        }
      ],
      "source": [
        "class Car():\n",
        "  engine = '4.7L' #constant attribute\n",
        "\n",
        "  def __init__(self, wheels, color):\n",
        "    self.wheels = wheels\n",
        "    self.color = color\n",
        "ford = Car(4, 'red')\n",
        "chevy = Car(6, 'black')\n",
        "\n",
        "print(ford.wheels)\n",
        "print(chevy.color)\n"
      ]
    },
    {
      "cell_type": "markdown",
      "metadata": {
        "id": "MDSX9nvMeGmz"
      },
      "source": [
        "##### The 'self' Attribute <br>\n",
        "<p>This attribute is required to keep track of specific instance's attributes. Without the self attribute, the program would not know how to reference or keep track of an instance's attributes.</p>"
      ]
    },
    {
      "cell_type": "code",
      "execution_count": null,
      "metadata": {
        "id": "6Pu0gCeceGmz"
      },
      "outputs": [],
      "source": [
        "# see above"
      ]
    },
    {
      "cell_type": "code",
      "source": [
        "# sample format\n",
        "#  from typing_extensions import dataclass_transform\n",
        "# # formula\n",
        "# class Nmae():\n",
        "#   init\n",
        "#   pass\n",
        "\n",
        "#   control function:\n",
        "#   if function 2:\n",
        "#     class.function 2\n",
        "#   elif some other criteria where I want function 3 to happen:\n",
        "#     class.function 3\n",
        "\n",
        "#     function 1\n",
        "\n",
        "#     function 2\n",
        "#     print('this is function 2 working!')\n",
        "#     do stuff with my dataclass_transform\n",
        "\n",
        "#     function 3\n",
        "\n",
        "#   def start\n",
        "#   variable = class\n",
        "#   variable.control function\n",
        "\n",
        "#   start()"
      ],
      "metadata": {
        "id": "_hRPZA08qVJI"
      },
      "execution_count": null,
      "outputs": []
    },
    {
      "cell_type": "markdown",
      "metadata": {
        "id": "HoPLNiEJeGm0"
      },
      "source": [
        "## Class Attributes <br>\n",
        "<p>While variables are inside of a class, they are referred to as attributes and not variables. When someone says 'attribute' you know they're speaking about a class. Attributes can be initialized through the init method, or outside of it.</p>"
      ]
    },
    {
      "cell_type": "markdown",
      "metadata": {
        "id": "jRvJh_bkeGm0"
      },
      "source": [
        "##### Initializing Attributes"
      ]
    },
    {
      "cell_type": "code",
      "execution_count": 12,
      "metadata": {
        "id": "6qvWctofeGm0"
      },
      "outputs": [],
      "source": [
        "# a method is a func that lives inside of a class\n",
        "# used for things that do not change frequently\n",
        "\n",
        "class Toy():\n",
        "  kind = 'car'\n",
        "\n",
        "  def __init__(self, rooftop, horn, wheels = 4):\n",
        "    self.rooftop = rooftop\n",
        "    self.horn = horn\n",
        "    self.wheels = wheels\n",
        "\n",
        "tonka_truck =  Toy(1,1)\n",
        "hotwheels_car = Toy(2,3,8)\n"
      ]
    },
    {
      "cell_type": "markdown",
      "metadata": {
        "id": "Rli4cgGfeGm0"
      },
      "source": [
        "##### Accessing Class Attributes"
      ]
    },
    {
      "cell_type": "code",
      "execution_count": 14,
      "metadata": {
        "scrolled": true,
        "colab": {
          "base_uri": "https://localhost:8080/",
          "height": 0
        },
        "id": "0-cxdm52eGm1",
        "outputId": "ec040468-6f7d-4fb2-afa7-bb8c3a3dabeb"
      },
      "outputs": [
        {
          "output_type": "stream",
          "name": "stdout",
          "text": [
            "1\n",
            "8\n"
          ]
        }
      ],
      "source": [
        "# see above\n",
        "print(tonka_truck.horn)\n",
        "print(hotwheels_car.wheels)"
      ]
    },
    {
      "cell_type": "markdown",
      "metadata": {
        "id": "f9lT6QfWeGm1"
      },
      "source": [
        "##### Setting Defaults for Attributes"
      ]
    },
    {
      "cell_type": "code",
      "execution_count": 15,
      "metadata": {
        "colab": {
          "base_uri": "https://localhost:8080/",
          "height": 0
        },
        "id": "5WsdtJb-eGm1",
        "outputId": "9a7b410f-490d-47ad-e3dc-6cb4dc607356"
      },
      "outputs": [
        {
          "output_type": "stream",
          "name": "stdout",
          "text": [
            "blue\n",
            "4\n",
            "5.6L\n"
          ]
        }
      ],
      "source": [
        "class Car():\n",
        "  engine ='4.7L'\n",
        "  def __init__(self, wheels):\n",
        "     self.wheels = wheels\n",
        "     self.color = 'blue' #default without overwriting values\n",
        "\n",
        "honda = Car(4)\n",
        "print(honda.color)\n",
        "print(honda.wheels)\n",
        "\n",
        "honda.engine = '5.6L' #changing the value in the variable engine\n",
        "print(honda.engine)\n"
      ]
    },
    {
      "cell_type": "markdown",
      "metadata": {
        "id": "htUhwc5beGm1"
      },
      "source": [
        "##### Changing Class Attributes <br>\n",
        "<p>Keep in mind there are global class attributes and then there are attributes only available to each class instance which won't effect other classes.</p>"
      ]
    },
    {
      "cell_type": "code",
      "execution_count": null,
      "metadata": {
        "id": "fqLpQy25eGm2"
      },
      "outputs": [],
      "source": [
        "honda.engine = '5.6L' #changing the value in the variable engine\n",
        "print(honda.engine)"
      ]
    },
    {
      "cell_type": "code",
      "execution_count": null,
      "metadata": {
        "id": "3EpuQigQeGm2"
      },
      "outputs": [],
      "source": []
    },
    {
      "cell_type": "markdown",
      "metadata": {
        "id": "HuVfe3qxeGm2"
      },
      "source": [
        "##### In-Class Exercise #2 - Add a doors and seats attribute to your 'Car' class then print out two different instances with different doors and seats"
      ]
    },
    {
      "cell_type": "markdown",
      "source": [],
      "metadata": {
        "id": "Hs9n6NUSwQlS"
      }
    },
    {
      "cell_type": "code",
      "execution_count": 1,
      "metadata": {
        "colab": {
          "base_uri": "https://localhost:8080/",
          "height": 0
        },
        "id": "nY6Jz9oYeGm2",
        "outputId": "8fb3f704-07b2-46f5-a8e2-a6fd63cfe458"
      },
      "outputs": [
        {
          "output_type": "stream",
          "name": "stdout",
          "text": [
            "Corolla Cross 2019 burgundy, Doors: 4, Seats: 5\n",
            "Civic 2020 teal blue, Doors: 2, Seats: 4\n"
          ]
        }
      ],
      "source": [
        "class Car:\n",
        "    def __init__(self, model, year, color, doors, seats):\n",
        "        self.model = model\n",
        "        self.year = year\n",
        "        self.color = color\n",
        "        self.doors = doors\n",
        "        self.seats = seats\n",
        "\n",
        "    def get_attribute(self):\n",
        "        return f\"{self.model} {self.year} {self.color}, Doors: {self.doors}, Seats: {self.seats}\"\n",
        "\n",
        "# Instantiate two different cars with different doors and seats\n",
        "toyota = Car('Corolla Cross', 2019, 'burgundy', 4, 5)\n",
        "honda = Car('Civic', 2020, 'teal blue', 2, 4)\n",
        "\n",
        "# Print the descriptions of the cars\n",
        "print(toyota.get_attribute())\n",
        "print(honda.get_attribute())"
      ]
    },
    {
      "cell_type": "markdown",
      "metadata": {
        "id": "Tlyq3rFVeGm2"
      },
      "source": [
        "## Class Methods <br>\n",
        "<p>While inside of a class, functions are referred to as 'methods'. If you hear someone mention methods, they're speaking about classes. Methods are essentially functions, but only callable on the instances of a class.</p>"
      ]
    },
    {
      "cell_type": "markdown",
      "metadata": {
        "id": "pdYKfngheGm3"
      },
      "source": [
        "##### Creating"
      ]
    },
    {
      "cell_type": "code",
      "execution_count": 8,
      "metadata": {
        "id": "JTRbwyLNeGm3"
      },
      "outputs": [],
      "source": [
        "# # add things to our bag, change our capacity, show our capacity\n",
        "class ShoppingBag():\n",
        "  '''\n",
        "  The shoppingBaf class will have handles, capacity, and items to place inside.\n",
        "\n",
        "  Attributes for the class:\n",
        "  -handles: expected to be an integer\n",
        "  -items: expected to be a list\n",
        "  -capacity: expected to be an integer\n",
        "\n",
        "  '''\n",
        "  def __init__(self, handles, items = [], capacity = 10): #makes sure items is a list of some sort so someone can overwrite it\n",
        "    self.handles = handles\n",
        "    self.items = items\n",
        "    self.capacity = capacity\n",
        "\n",
        "  def showShoppingBag(self):  #self allows functions to communicate..look n self for items ..goover the items and print it out\n",
        "    if len(self.items) == 0:\n",
        "      print('You have no items. ')\n",
        "    else:\n",
        "      print('You have iems in your Bag!!')  # done!to do: add conditional if no items present\n",
        "    for item in self.items:\n",
        "      print(item)\n",
        "\n",
        "  def showCapacity(self):\n",
        "    print(f'Your remaining capacity is: {self.capacity - len(self.items)}.' ) #TODO subtract number of items from capacity\n",
        "\n",
        "  # my capacity is 10but if I have 5 items in my bag I want to say  10 - 5 ...to show remaining capacity in the bag\n",
        "\n",
        "  def addToShoppingBag(self):  #if capacity is full, reject new items\n",
        "    if len(self.items) == self.capacity:\n",
        "      print('You have no room')\n",
        "    else:\n",
        "      product = input('What would you like to add? ')\n",
        "      self.items.append(product)\n",
        "\n",
        "  def showHandles(self):\n",
        "    print(f'you have {self.handles} handles on your bag')\n",
        "\n",
        "\n"
      ]
    },
    {
      "cell_type": "markdown",
      "metadata": {
        "id": "3Gv0elaleGm3"
      },
      "source": [
        "##### Calling"
      ]
    },
    {
      "cell_type": "code",
      "execution_count": 9,
      "metadata": {
        "colab": {
          "base_uri": "https://localhost:8080/",
          "height": 1606
        },
        "id": "G39Pxi7WeGm3",
        "outputId": "1d029aaf-065d-4c31-fb3b-ec55ff670cf9"
      },
      "outputs": [
        {
          "output_type": "stream",
          "name": "stdout",
          "text": [
            "What would you like to do? \n",
            "\n",
            " You may:\n",
            "-Add\n",
            "-Show\n",
            "-Quit\n",
            "add\n",
            "What would you like to add? Grapes\n",
            "What would you like to do? \n",
            "\n",
            " You may:\n",
            "-Add\n",
            "-Show\n",
            "-Quit\n",
            "Cheese\n",
            "That is not a valid option. Please enter add, show or quit. \n",
            "What would you like to do? \n",
            "\n",
            " You may:\n",
            "-Add\n",
            "-Show\n",
            "-Quit\n",
            "cheese\n",
            "That is not a valid option. Please enter add, show or quit. \n",
            "What would you like to do? \n",
            "\n",
            " You may:\n",
            "-Add\n",
            "-Show\n",
            "-Quit\n",
            "show\n",
            "What would you like to see: \n",
            "-Capacity\n",
            "-Handles\n",
            "-Shopping Bagcapacity\n",
            "Your remaining capacity is: 9.\n",
            "What would you like to do? \n",
            "\n",
            " You may:\n",
            "-Add\n",
            "-Show\n",
            "-Quit\n",
            "show\n",
            "What would you like to see: \n",
            "-Capacity\n",
            "-Handles\n",
            "-Shopping Bagshopping bag\n",
            "What would you like to add? watermelon\n",
            "What would you like to do? \n",
            "\n",
            " You may:\n",
            "-Add\n",
            "-Show\n",
            "-Quit\n",
            "quit\n",
            "That is not a valid option. Please enter add, show or quit. \n",
            "What would you like to do? \n",
            "\n",
            " You may:\n",
            "-Add\n",
            "-Show\n",
            "-Quit\n",
            "quit\n",
            "That is not a valid option. Please enter add, show or quit. \n",
            "What would you like to do? \n",
            "\n",
            " You may:\n",
            "-Add\n",
            "-Show\n",
            "-Quit\n",
            "Quit\n",
            "That is not a valid option. Please enter add, show or quit. \n"
          ]
        },
        {
          "output_type": "error",
          "ename": "KeyboardInterrupt",
          "evalue": "Interrupted by user",
          "traceback": [
            "\u001b[0;31m---------------------------------------------------------------------------\u001b[0m",
            "\u001b[0;31mKeyboardInterrupt\u001b[0m                         Traceback (most recent call last)",
            "\u001b[0;32m<ipython-input-9-02cc23793049>\u001b[0m in \u001b[0;36m<cell line: 25>\u001b[0;34m()\u001b[0m\n\u001b[1;32m     23\u001b[0m     \u001b[0;32melse\u001b[0m\u001b[0;34m:\u001b[0m\u001b[0;34m\u001b[0m\u001b[0;34m\u001b[0m\u001b[0m\n\u001b[1;32m     24\u001b[0m       \u001b[0mprint\u001b[0m\u001b[0;34m(\u001b[0m\u001b[0;34m'That is not a valid option. Please enter add, show or quit. '\u001b[0m\u001b[0;34m)\u001b[0m\u001b[0;34m\u001b[0m\u001b[0;34m\u001b[0m\u001b[0m\n\u001b[0;32m---> 25\u001b[0;31m \u001b[0mrun\u001b[0m\u001b[0;34m(\u001b[0m\u001b[0;34m)\u001b[0m\u001b[0;34m\u001b[0m\u001b[0;34m\u001b[0m\u001b[0m\n\u001b[0m",
            "\u001b[0;32m<ipython-input-9-02cc23793049>\u001b[0m in \u001b[0;36mrun\u001b[0;34m()\u001b[0m\n\u001b[1;32m      6\u001b[0m \u001b[0;32mdef\u001b[0m \u001b[0mrun\u001b[0m\u001b[0;34m(\u001b[0m\u001b[0;34m)\u001b[0m\u001b[0;34m:\u001b[0m\u001b[0;34m\u001b[0m\u001b[0;34m\u001b[0m\u001b[0m\n\u001b[1;32m      7\u001b[0m   \u001b[0;32mwhile\u001b[0m \u001b[0;32mTrue\u001b[0m\u001b[0;34m:\u001b[0m\u001b[0;34m\u001b[0m\u001b[0;34m\u001b[0m\u001b[0m\n\u001b[0;32m----> 8\u001b[0;31m     \u001b[0mresponse\u001b[0m \u001b[0;34m=\u001b[0m \u001b[0minput\u001b[0m\u001b[0;34m(\u001b[0m\u001b[0;34m'What would you like to do? \\n\\n You may:\\n-Add\\n-Show\\n-Quit\\n'\u001b[0m\u001b[0;34m)\u001b[0m\u001b[0;34m\u001b[0m\u001b[0;34m\u001b[0m\u001b[0m\n\u001b[0m\u001b[1;32m      9\u001b[0m     \u001b[0;32mif\u001b[0m \u001b[0mresponse\u001b[0m\u001b[0;34m.\u001b[0m\u001b[0mlower\u001b[0m \u001b[0;34m==\u001b[0m \u001b[0;34m'quit'\u001b[0m\u001b[0;34m:\u001b[0m\u001b[0;34m\u001b[0m\u001b[0;34m\u001b[0m\u001b[0m\n\u001b[1;32m     10\u001b[0m       \u001b[0mwholeFoodsBag\u001b[0m\u001b[0;34m.\u001b[0m\u001b[0mshowShoppingBag\u001b[0m\u001b[0;34m(\u001b[0m\u001b[0;34m)\u001b[0m\u001b[0;34m\u001b[0m\u001b[0;34m\u001b[0m\u001b[0m\n",
            "\u001b[0;32m/usr/local/lib/python3.10/dist-packages/ipykernel/kernelbase.py\u001b[0m in \u001b[0;36mraw_input\u001b[0;34m(self, prompt)\u001b[0m\n\u001b[1;32m    849\u001b[0m                 \u001b[0;34m\"raw_input was called, but this frontend does not support input requests.\"\u001b[0m\u001b[0;34m\u001b[0m\u001b[0;34m\u001b[0m\u001b[0m\n\u001b[1;32m    850\u001b[0m             )\n\u001b[0;32m--> 851\u001b[0;31m         return self._input_request(str(prompt),\n\u001b[0m\u001b[1;32m    852\u001b[0m             \u001b[0mself\u001b[0m\u001b[0;34m.\u001b[0m\u001b[0m_parent_ident\u001b[0m\u001b[0;34m,\u001b[0m\u001b[0;34m\u001b[0m\u001b[0;34m\u001b[0m\u001b[0m\n\u001b[1;32m    853\u001b[0m             \u001b[0mself\u001b[0m\u001b[0;34m.\u001b[0m\u001b[0m_parent_header\u001b[0m\u001b[0;34m,\u001b[0m\u001b[0;34m\u001b[0m\u001b[0;34m\u001b[0m\u001b[0m\n",
            "\u001b[0;32m/usr/local/lib/python3.10/dist-packages/ipykernel/kernelbase.py\u001b[0m in \u001b[0;36m_input_request\u001b[0;34m(self, prompt, ident, parent, password)\u001b[0m\n\u001b[1;32m    893\u001b[0m             \u001b[0;32mexcept\u001b[0m \u001b[0mKeyboardInterrupt\u001b[0m\u001b[0;34m:\u001b[0m\u001b[0;34m\u001b[0m\u001b[0;34m\u001b[0m\u001b[0m\n\u001b[1;32m    894\u001b[0m                 \u001b[0;31m# re-raise KeyboardInterrupt, to truncate traceback\u001b[0m\u001b[0;34m\u001b[0m\u001b[0;34m\u001b[0m\u001b[0m\n\u001b[0;32m--> 895\u001b[0;31m                 \u001b[0;32mraise\u001b[0m \u001b[0mKeyboardInterrupt\u001b[0m\u001b[0;34m(\u001b[0m\u001b[0;34m\"Interrupted by user\"\u001b[0m\u001b[0;34m)\u001b[0m \u001b[0;32mfrom\u001b[0m \u001b[0;32mNone\u001b[0m\u001b[0;34m\u001b[0m\u001b[0;34m\u001b[0m\u001b[0m\n\u001b[0m\u001b[1;32m    896\u001b[0m             \u001b[0;32mexcept\u001b[0m \u001b[0mException\u001b[0m \u001b[0;32mas\u001b[0m \u001b[0me\u001b[0m\u001b[0;34m:\u001b[0m\u001b[0;34m\u001b[0m\u001b[0;34m\u001b[0m\u001b[0m\n\u001b[1;32m    897\u001b[0m                 \u001b[0mself\u001b[0m\u001b[0;34m.\u001b[0m\u001b[0mlog\u001b[0m\u001b[0;34m.\u001b[0m\u001b[0mwarning\u001b[0m\u001b[0;34m(\u001b[0m\u001b[0;34m\"Invalid Message:\"\u001b[0m\u001b[0;34m,\u001b[0m \u001b[0mexc_info\u001b[0m\u001b[0;34m=\u001b[0m\u001b[0;32mTrue\u001b[0m\u001b[0;34m)\u001b[0m\u001b[0;34m\u001b[0m\u001b[0;34m\u001b[0m\u001b[0m\n",
            "\u001b[0;31mKeyboardInterrupt\u001b[0m: Interrupted by user"
          ]
        }
      ],
      "source": [
        "# See Above\n",
        "# instantiating\n",
        "wholeFoodsBag = ShoppingBag(2)\n",
        "\n",
        "# while loop to keep asking user for response until they say quit\n",
        "def run():\n",
        "  while True:\n",
        "    response = input('What would you like to do? \\n You may:\\n-Add\\n-Show\\n-Quit\\n')\n",
        "    if response.lower == 'quit':\n",
        "      wholeFoodsBag.showShoppingBag()\n",
        "      print('Thanks for shopping!')\n",
        "      break\n",
        "    elif response.lower() == 'add':\n",
        "      wholeFoodsBag.addToShoppingBag()\n",
        "    elif response.lower() == 'show':\n",
        "      showChoice = input('What would you like to see: \\n-Capacity\\n-Handles\\n-Shopping Bag')\n",
        "      if showChoice.lower() == 'capacity':\n",
        "        wholeFoodsBag.showCapacity()\n",
        "      elif showChoice.lower() == 'handles' :\n",
        "        wholeFoodsBag.showHandles()\n",
        "      else:\n",
        "        wholeFoodsBag.addToShoppingBag()\n",
        "    else:\n",
        "      print('That is not a valid option. Please enter add, show or quit. ')\n",
        "run()"
      ]
    },
    {
      "cell_type": "markdown",
      "metadata": {
        "id": "Me3uVnOeeGm3"
      },
      "source": [
        "##### Modifying an Attribute's Value Through a Method"
      ]
    },
    {
      "cell_type": "code",
      "execution_count": 3,
      "metadata": {
        "colab": {
          "base_uri": "https://localhost:8080/",
          "height": 0
        },
        "id": "jVgHxy7leGm4",
        "outputId": "8aaac813-6c54-458f-abad-46206cfc947e"
      },
      "outputs": [
        {
          "output_type": "stream",
          "name": "stdout",
          "text": [
            "red\n",
            "blue\n"
          ]
        }
      ],
      "source": [
        "class Car:\n",
        "  def __init__(self, color):\n",
        "    self.color = color\n",
        "\n",
        "  def change_color(self, newColor):\n",
        "    self.color = newColor #method that changes color to newColor\n",
        "\n",
        "# creating a Car object\n",
        "Ford = Car('red')  #.color / original color\n",
        "\n",
        "# print the original color\n",
        "print(Ford.color) #output would be red\n",
        "\n",
        "# change the color\n",
        "Ford.change_color('blue') #object.method('new attribute')\n",
        "\n",
        "# print new color\n",
        "print(Ford.color)  #output would be blue\n",
        "\n",
        "\n"
      ]
    },
    {
      "cell_type": "markdown",
      "metadata": {
        "id": "1Y6dbJhneGm4"
      },
      "source": [
        "##### Incrementing an Attribute's Value Through a Method"
      ]
    },
    {
      "cell_type": "code",
      "execution_count": 8,
      "metadata": {
        "colab": {
          "base_uri": "https://localhost:8080/",
          "height": 0
        },
        "id": "fJW3Eyj8eGm4",
        "outputId": "88c8918c-38aa-470c-a568-380b53f44db1"
      },
      "outputs": [
        {
          "output_type": "stream",
          "name": "stdout",
          "text": [
            "0\n",
            "1\n"
          ]
        }
      ],
      "source": [
        "class Quantity_counter:\n",
        "  def __init__(self):\n",
        "    self.count = 0\n",
        "\n",
        "  def increment(self):   #incrementing method\n",
        "    self.count += 1\n",
        "\n",
        "# Create a counter object\n",
        "my_counter = Quantity_counter()\n",
        "\n",
        "# Print the original object\n",
        "print(my_counter.count)\n",
        "\n",
        "# increment\n",
        "my_counter.increment()\n",
        "\n",
        "print(my_counter.count)"
      ]
    },
    {
      "cell_type": "markdown",
      "metadata": {
        "id": "ds8PCoITeGm4"
      },
      "source": [
        "##### In-Class Exercise #3 - Add a method that takes in three parameters of year, doors and seats and prints out a formatted print statement with make, model, year, seats, and doors"
      ]
    },
    {
      "cell_type": "code",
      "execution_count": 11,
      "metadata": {
        "colab": {
          "base_uri": "https://localhost:8080/",
          "height": 0
        },
        "id": "QXYNwG-HeGm4",
        "outputId": "ff9995df-9d40-463d-b679-925a43b17db7"
      },
      "outputs": [
        {
          "output_type": "stream",
          "name": "stdout",
          "text": [
            "here are the features of your new car: \n",
            "Make: Mercedes-Benz \n",
            "Model: GLE 300 \n",
            "Year: 2023 \n",
            "Doors: 4 \n",
            "Seats: 5\n",
            "This car is from 2023 and is a Mercedes-Benz GLE 300 and has 4 doors and 5 seats\n"
          ]
        }
      ],
      "source": [
        "# Create class with 2 paramters inside of the __init__ which are make and model\n",
        "class Car:\n",
        "  def __init__(self, make, model):\n",
        "    self.make = make\n",
        "    self.model = model\n",
        "\n",
        "# Inside of the Car class create a method that has 4 parameter in total (self,year,door,seats)\n",
        "  def car_attribute(self, year, seats, doors = 4):\n",
        "    self.year = year\n",
        "    self.doors = doors\n",
        "    self.seats = seats\n",
        "\n",
        "    print(f'here are the features of your new car: \\nMake: {self.make} \\nModel: {self.model} \\nYear: {self.year} \\nDoors: {self.doors} \\nSeats: {self.seats}')\n",
        "    print(f\"This car is from {self.year} and is a {self.make} {self.model} and has {self.doors} doors and {self.seats} seats\")\n",
        "\n",
        "# create a car object\n",
        "my_car = Car('Mercedes-Benz', 'GLE 300')\n",
        "\n",
        "# call car attribute method\n",
        "my_car.car_attribute(2023, 5)\n"
      ]
    },
    {
      "cell_type": "markdown",
      "metadata": {
        "id": "ZNYn_Bs9eGm5"
      },
      "source": [
        "## Inheritance <br>\n",
        "<p>You can create a child-parent relationship between two classes by using inheritance. What this allows you to do is have overriding methods, but also inherit traits from the parent class. Think of it as an actual parent and child, the child will inherit the parent's genes, as will the classes in OOP</p>"
      ]
    },
    {
      "cell_type": "markdown",
      "metadata": {
        "id": "YN42PE0aeGnN"
      },
      "source": [
        "##### Syntax for Inheriting from a Parent Class"
      ]
    },
    {
      "cell_type": "code",
      "execution_count": null,
      "metadata": {
        "id": "ZUne7Tt4eGnN"
      },
      "outputs": [],
      "source": []
    },
    {
      "cell_type": "markdown",
      "metadata": {
        "id": "4g6X9PTzeGnO"
      },
      "source": [
        "##### The \\__init\\__() Method for a Child Class - super()"
      ]
    },
    {
      "cell_type": "code",
      "execution_count": null,
      "metadata": {
        "scrolled": true,
        "id": "0kSQVlk-eGnO"
      },
      "outputs": [],
      "source": []
    },
    {
      "cell_type": "markdown",
      "metadata": {
        "id": "EmK0_X8TeGnO"
      },
      "source": [
        "##### Defining Attributes and Methods for the Child Class"
      ]
    },
    {
      "cell_type": "code",
      "execution_count": null,
      "metadata": {
        "id": "QL2pxs31eGnO"
      },
      "outputs": [],
      "source": [
        "# See Above"
      ]
    },
    {
      "cell_type": "markdown",
      "metadata": {
        "id": "TqlOMWh7eGnO"
      },
      "source": [
        "##### Method Overriding"
      ]
    },
    {
      "cell_type": "code",
      "execution_count": null,
      "metadata": {
        "id": "9wQE_ipHeGnP"
      },
      "outputs": [],
      "source": [
        "# See Above"
      ]
    },
    {
      "cell_type": "markdown",
      "metadata": {
        "id": "OE77YcvVeGnP"
      },
      "source": [
        "## Classes as Attributes <br>\n",
        "<p>Classes can also be used as attributes within another class. This is useful in situations where you need to keep variables locally stored, instead of globally stored.</p>"
      ]
    },
    {
      "cell_type": "code",
      "execution_count": null,
      "metadata": {
        "id": "xzD1Ldg6eGnP"
      },
      "outputs": [],
      "source": []
    },
    {
      "cell_type": "markdown",
      "metadata": {
        "id": "xFdK6IyWeGnP"
      },
      "source": [
        "# Exercises"
      ]
    },
    {
      "cell_type": "markdown",
      "metadata": {
        "id": "yNuYsKeQeGnP"
      },
      "source": [
        "### Exercise 1 - Turn the shopping cart program from yesterday into an object-oriented program\n",
        "\n",
        "The comments in the cell below are there as a guide for thinking about the problem. However, if you feel a different way is best for you and your own thought process, please do what feels best for you by all means."
      ]
    },
    {
      "cell_type": "code",
      "source": [
        "# SHOPPPING CART FROM YESTERDAY\n",
        "# def shop_cart():\n",
        "#     shopping_cart = {}\n",
        "#     while True:\n",
        "#         print(\"\\n1. Add item to shopping cart\")\n",
        "#         print(\"\\n2. Delete item from shopping cart\")\n",
        "#         print(\"\\n3. View list\")\n",
        "#         print(\"\\n4. Quit\")\n",
        "\n",
        "#         item_options = input('\\nHello there! \\nWhat do you want to do? choose from options 1 to 4')\n",
        "\n",
        "#         if item_options == '1':\n",
        "#             item_to_be_stored = input(\"Enter the item you want to add: \")\n",
        "\n",
        "#             quantity = input(\"Enter the quantity: \")\n",
        "#             if quantity.isdigit():\n",
        "#                 quantity = int(quantity)\n",
        "#             shopping_cart[item_to_be_stored] = quantity\n",
        "\n",
        "#         elif item_options == '2':\n",
        "#             item_to_be_stored = input(\"Okay, Enter the item you want to delete: \")\n",
        "#             if item_to_be_stored in shopping_cart:\n",
        "#                 del shopping_cart[item_to_be_stored]\n",
        "#             else:\n",
        "#                 print(\"Item not found in cart\")\n",
        "\n",
        "#         elif item_options == '3':\n",
        "#             for item_to_be_stored, quantity in shopping_cart.items():\n",
        "#                 print(f\"Your items are: {item_to_be_stored}: {quantity}\")\n",
        "\n",
        "#         elif item_options == '4':\n",
        "#             print(\"\\nYour final shopping list is: \")\n",
        "\n",
        "#             for item_to_be_stored, quantity in shopping_cart.items():\n",
        "#                 print(f\"{item_to_be_stored}: {quantity}\")\n",
        "#             break\n",
        "#         else:\n",
        "#                 print(\"Invalid option. Please choose again, from 1 to 4, to either Add, Delete, View list or quit\")\n",
        "# shop_cart()\n"
      ],
      "metadata": {
        "id": "Z4-HEy6yAVPN"
      },
      "execution_count": null,
      "outputs": []
    },
    {
      "cell_type": "code",
      "execution_count": 20,
      "metadata": {
        "colab": {
          "base_uri": "https://localhost:8080/",
          "height": 0
        },
        "id": "RtjIQHbreGnP",
        "outputId": "d5f95577-878b-4c49-962b-963c527b0f60"
      },
      "outputs": [
        {
          "output_type": "stream",
          "name": "stdout",
          "text": [
            "\n",
            "1. Add \n",
            "2. Remove \n",
            " 3.Show items \n",
            "4. Quit\n",
            "Hello there! \n",
            "What would you want to do? \n",
            " Choose from options 1 to 41\n",
            "Enter the item you want to add: Peanut Butter\n",
            "Enter the quantity: 2 bottles\n",
            "\n",
            "1. Add \n",
            "2. Remove \n",
            " 3.Show items \n",
            "4. Quit\n",
            "Hello there! \n",
            "What would you want to do? \n",
            " Choose from options 1 to 41\n",
            "Enter the item you want to add: Bread\n",
            "Enter the quantity: 3 \n",
            "\n",
            "1. Add \n",
            "2. Remove \n",
            " 3.Show items \n",
            "4. Quit\n",
            "Hello there! \n",
            "What would you want to do? \n",
            " Choose from options 1 to 4wheaties\n",
            "Invalid option. Please choose again from 1 to 4 to either Add, Remove, Show items or Quit\n",
            "\n",
            "1. Add \n",
            "2. Remove \n",
            " 3.Show items \n",
            "4. Quit\n",
            "Hello there! \n",
            "What would you want to do? \n",
            " Choose from options 1 to 41 box\n",
            "Invalid option. Please choose again from 1 to 4 to either Add, Remove, Show items or Quit\n",
            "\n",
            "1. Add \n",
            "2. Remove \n",
            " 3.Show items \n",
            "4. Quit\n",
            "Hello there! \n",
            "What would you want to do? \n",
            " Choose from options 1 to 43\n",
            "Here is what you have in your cart: \n",
            "Your items are: Peanut Butter: 2 bottles\n",
            "Your items are: Bread: 3 \n",
            "\n",
            "1. Add \n",
            "2. Remove \n",
            " 3.Show items \n",
            "4. Quit\n",
            "Hello there! \n",
            "What would you want to do? \n",
            " Choose from options 1 to 44\n",
            "\n",
            "Your final shopping list is: \n",
            "Your items are: Peanut Butter: 2 bottles\n",
            "Your items are: Bread: 3 \n",
            "Thanks, see you again soon!\n"
          ]
        }
      ],
      "source": [
        "# Create a class called cart that retains items and has methods to add, remove, and show\n",
        "from IPython.display import clear_output\n",
        "class Cart():\n",
        "    def __init__(self):\n",
        "      self.shopping_cart = {}\n",
        "\n",
        "    def add_item(self):\n",
        "      item = input('Enter the item you want to add: ')\n",
        "      quantity = input('Enter the quantity: ')\n",
        "      if quantity.isdigit():\n",
        "        quantity = int(quantity)\n",
        "      self.shopping_cart[item] = quantity  #key item = value quantity.. adding the results to the dictionary\n",
        "\n",
        "    def remove_item(self):\n",
        "      item = input('Enter the item you want to remove: ')\n",
        "      if item in self.shopping_cart:\n",
        "        del self.shopping_cart[item]\n",
        "      else:\n",
        "        print('It seems this item is not in your cart')\n",
        "\n",
        "    def show_items(self):\n",
        "      for item, quantity in self.shopping_cart.items():\n",
        "        print(f'{item}: {quantity}')\n",
        "\n",
        "    # defining the function shop cart to hold the while loop that presents options of Add, remove, show and quit\n",
        "def shop_cart():\n",
        "      my_cart = Cart()\n",
        "\n",
        "      while True:\n",
        "        print(\"\\n1. Add \\n2. Remove \\n 3.Show items \\n4. Quit\")\n",
        "\n",
        "        edit_options = input('Hello there! \\nWhat would you want to do? \\n Choose from options 1 to 4')\n",
        "\n",
        "        if edit_options == '1':\n",
        "          my_cart.add_item()\n",
        "        elif edit_options == '2':\n",
        "          my_cart.remove_item()\n",
        "        elif edit_options == '3':\n",
        "          print('Here is what you have in your cart: ')\n",
        "          my_cart.show_items()\n",
        "        elif edit_options == '4':\n",
        "          print('\\nYour final shopping list is: ')\n",
        "          my_cart.show_items()\n",
        "          print('Thanks, see you again soon!')\n",
        "          break\n",
        "        else:\n",
        "          print('Invalid option. Please choose again from 1 to 4 to either Add, Remove, Show items or Quit')\n",
        "shop_cart()"
      ]
    },
    {
      "cell_type": "markdown",
      "metadata": {
        "id": "7o9pZdXIeGnQ"
      },
      "source": [
        "### Exercise 2 - Write a Python class which has two methods get_String and print_String. get_String accept a string from the user and print_String print the string in upper case"
      ]
    },
    {
      "cell_type": "code",
      "execution_count": 15,
      "metadata": {
        "colab": {
          "base_uri": "https://localhost:8080/",
          "height": 0
        },
        "id": "J2xAxaHIeGnQ",
        "outputId": "1f10b272-d73a-4576-965d-896feeb020ea"
      },
      "outputs": [
        {
          "output_type": "stream",
          "name": "stdout",
          "text": [
            "Say something nice: I love SkillBuilders!\n",
            "I LOVE SKILLBUILDERS!\n"
          ]
        }
      ],
      "source": [
        "\n",
        "class String_class:\n",
        "  def __init__(self):\n",
        "    self.accept_string = \"\"  #initialize accept_string with  an empty string\n",
        "\n",
        "  def get_String(self): #methid 1\n",
        "    self.accept_string = input(\"Say something nice: \")\n",
        "\n",
        "  def print_String(self): # method 2\n",
        "    print(self.accept_string.upper())\n",
        "\n",
        "# creating my object\n",
        "something_nice = String_class()\n",
        "\n",
        "something_nice.get_String()\n",
        "something_nice.print_String()\n",
        "\n"
      ]
    }
  ],
  "metadata": {
    "kernelspec": {
      "display_name": "Python 3",
      "language": "python",
      "name": "python3"
    },
    "language_info": {
      "codemirror_mode": {
        "name": "ipython",
        "version": 3
      },
      "file_extension": ".py",
      "mimetype": "text/x-python",
      "name": "python",
      "nbconvert_exporter": "python",
      "pygments_lexer": "ipython3",
      "version": "3.8.5"
    },
    "colab": {
      "provenance": []
    }
  },
  "nbformat": 4,
  "nbformat_minor": 0
}